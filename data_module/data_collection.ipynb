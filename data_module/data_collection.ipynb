{
 "cells": [
  {
   "cell_type": "markdown",
   "metadata": {},
   "source": [
    "## Data collection"
   ]
  },
  {
   "cell_type": "markdown",
   "metadata": {},
   "source": [
    "- In this project, we are going to analyze a dataset collected from **A survey of students portuguese language courses in secondary school about alcohol consumption**\n",
    "    - `../data/student.csv`: Survey results of more than 600 students. We will mainly work on this file.\n",
    "\n",
    "- Data source: \n",
    "    + Fabio Pagnotta, Hossain Mohammad Amran.\n",
    "    + Email:fabio.pagnotta@studenti.unicam.it, mohammadamra.hossain '@' studenti.unicam.it\n",
    "    + University Of Camerino\n",
    "    + https://www.kaggle.com/datasets/uciml/student-alcohol-consumption/data?select=student-por.csv\n",
    "\n",
    "- The data has no copyright\n"
   ]
  }
 ],
 "metadata": {
  "language_info": {
   "name": "python"
  }
 },
 "nbformat": 4,
 "nbformat_minor": 2
}
