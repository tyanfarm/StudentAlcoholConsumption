{
 "cells": [
  {
   "cell_type": "markdown",
   "metadata": {},
   "source": [
    "<div style=\"text-align: center; background-color: #559cff; font-family: 'Trebuchet MS', Arial, sans-serif; color: white; padding: 20px; font-size: 40px; font-weight: bold; border-radius: 0 0 0 0; box-shadow: 0px 6px 8px rgba(0, 0, 0, 0.2);\">\n",
    "  REFLECTION 📌\n",
    "</div>"
   ]
  },
  {
   "cell_type": "markdown",
   "metadata": {},
   "source": [
    "## Difficulties\n",
    "\n",
    "- Although this project did not require us to manually crawl raw data which mean we did not need to worry the authority and availability of data, we still found that making the decision to choose what topic to do is quite diificult as this the the first time we approach Data Science field.\n",
    "\n",
    "- As the data set we use in this project, there is a lack of abundant of data type. Our data set has only 2 type of data type which is numeric and non-numeric. This problem make the question-making process harder as we just can use data with categorical types and pointing type.\n",
    "\n",
    "- One of our group weakness is our lack of communication between each other. We were just using a social network chatting application to communicate, through message. Which may lead to a litmitative idea-ẽchanging process."
   ]
  },
  {
   "cell_type": "markdown",
   "metadata": {},
   "source": [
    "## Lesson to learn\n",
    "\n",
    "- We understand more about what specific work to do with a dataset.\n",
    "\n",
    "- We have learnt that working with a proper plan that has been created before and communication while team working is that much important.\n",
    "\n",
    "- The importance of understanding data is also another thing to consider after completing this project. In order to ask a technically and meaningfully good question."
   ]
  },
  {
   "cell_type": "markdown",
   "metadata": {},
   "source": [
    "## What if ?\n",
    "\n",
    "If we had more time, would there be any change?\n",
    "\n",
    "Yes, if we had more time, we would have done better by: \n",
    "\n",
    "- Being more focus on the topic.\n",
    "\n",
    "- Detailizing our work especially the EDA."
   ]
  }
 ],
 "metadata": {
  "kernelspec": {
   "display_name": "Python 3 (ipykernel)",
   "language": "python",
   "name": "python3"
  },
  "language_info": {
   "codemirror_mode": {
    "name": "ipython",
    "version": 3
   },
   "file_extension": ".py",
   "mimetype": "text/x-python",
   "name": "python",
   "nbconvert_exporter": "python",
   "pygments_lexer": "ipython3",
   "version": "3.11.5"
  }
 },
 "nbformat": 4,
 "nbformat_minor": 2
}
