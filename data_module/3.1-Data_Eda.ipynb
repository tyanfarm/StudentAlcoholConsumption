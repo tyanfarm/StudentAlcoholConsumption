{
 "cells": [
  {
   "cell_type": "markdown",
   "metadata": {},
   "source": [
    "<div style=\"text-align: center; background-color: #b1d1ff; font-family: 'Trebuchet MS', Arial, sans-serif; color: white; padding: 20px; font-size: 40px; font-weight: bold; border-radius: 0 0 0 0; box-shadow: 0px 6px 8px rgba(0, 0, 0, 0.2);\">\n",
    "Exploratory data analysis\n",
    "</div>"
   ]
  },
  {
   "cell_type": "markdown",
   "metadata": {},
   "source": [
    "## Import libraries"
   ]
  },
  {
   "cell_type": "code",
   "execution_count": 45,
   "metadata": {},
   "outputs": [],
   "source": [
    "import numpy as np\n",
    "import matplotlib.pyplot as plt\n",
    "import pandas as pd\n",
    "import seaborn as sns"
   ]
  },
  {
   "cell_type": "markdown",
   "metadata": {},
   "source": [
    "## Read data from file"
   ]
  },
  {
   "cell_type": "code",
   "execution_count": 46,
   "metadata": {},
   "outputs": [
    {
     "data": {
      "text/html": [
       "<div>\n",
       "<style scoped>\n",
       "    .dataframe tbody tr th:only-of-type {\n",
       "        vertical-align: middle;\n",
       "    }\n",
       "\n",
       "    .dataframe tbody tr th {\n",
       "        vertical-align: top;\n",
       "    }\n",
       "\n",
       "    .dataframe thead th {\n",
       "        text-align: right;\n",
       "    }\n",
       "</style>\n",
       "<table border=\"1\" class=\"dataframe\">\n",
       "  <thead>\n",
       "    <tr style=\"text-align: right;\">\n",
       "      <th></th>\n",
       "      <th>School</th>\n",
       "      <th>Sex</th>\n",
       "      <th>Age</th>\n",
       "      <th>Address</th>\n",
       "      <th>Family size</th>\n",
       "      <th>Parent's cohabitation status</th>\n",
       "      <th>Mother's education</th>\n",
       "      <th>Father's education</th>\n",
       "      <th>Mother's job</th>\n",
       "      <th>Father's job</th>\n",
       "      <th>...</th>\n",
       "      <th>Family relationships</th>\n",
       "      <th>Free time at school</th>\n",
       "      <th>Going out with friends</th>\n",
       "      <th>Workday alcohol consumption</th>\n",
       "      <th>Weekend alcohol consumption</th>\n",
       "      <th>Current health status</th>\n",
       "      <th>School absences</th>\n",
       "      <th>First period grade</th>\n",
       "      <th>Second period grade</th>\n",
       "      <th>Final grade</th>\n",
       "    </tr>\n",
       "  </thead>\n",
       "  <tbody>\n",
       "    <tr>\n",
       "      <th>0</th>\n",
       "      <td>GP</td>\n",
       "      <td>F</td>\n",
       "      <td>18</td>\n",
       "      <td>U</td>\n",
       "      <td>GT3</td>\n",
       "      <td>A</td>\n",
       "      <td>4</td>\n",
       "      <td>4</td>\n",
       "      <td>at_home</td>\n",
       "      <td>teacher</td>\n",
       "      <td>...</td>\n",
       "      <td>4</td>\n",
       "      <td>3</td>\n",
       "      <td>4</td>\n",
       "      <td>1</td>\n",
       "      <td>1</td>\n",
       "      <td>3</td>\n",
       "      <td>4</td>\n",
       "      <td>0</td>\n",
       "      <td>11</td>\n",
       "      <td>11</td>\n",
       "    </tr>\n",
       "    <tr>\n",
       "      <th>1</th>\n",
       "      <td>GP</td>\n",
       "      <td>F</td>\n",
       "      <td>17</td>\n",
       "      <td>U</td>\n",
       "      <td>GT3</td>\n",
       "      <td>T</td>\n",
       "      <td>1</td>\n",
       "      <td>1</td>\n",
       "      <td>at_home</td>\n",
       "      <td>other</td>\n",
       "      <td>...</td>\n",
       "      <td>5</td>\n",
       "      <td>3</td>\n",
       "      <td>3</td>\n",
       "      <td>1</td>\n",
       "      <td>1</td>\n",
       "      <td>3</td>\n",
       "      <td>2</td>\n",
       "      <td>9</td>\n",
       "      <td>11</td>\n",
       "      <td>11</td>\n",
       "    </tr>\n",
       "    <tr>\n",
       "      <th>2</th>\n",
       "      <td>GP</td>\n",
       "      <td>F</td>\n",
       "      <td>15</td>\n",
       "      <td>U</td>\n",
       "      <td>LE3</td>\n",
       "      <td>T</td>\n",
       "      <td>1</td>\n",
       "      <td>1</td>\n",
       "      <td>at_home</td>\n",
       "      <td>other</td>\n",
       "      <td>...</td>\n",
       "      <td>4</td>\n",
       "      <td>3</td>\n",
       "      <td>2</td>\n",
       "      <td>2</td>\n",
       "      <td>3</td>\n",
       "      <td>3</td>\n",
       "      <td>6</td>\n",
       "      <td>12</td>\n",
       "      <td>13</td>\n",
       "      <td>12</td>\n",
       "    </tr>\n",
       "    <tr>\n",
       "      <th>3</th>\n",
       "      <td>GP</td>\n",
       "      <td>F</td>\n",
       "      <td>15</td>\n",
       "      <td>U</td>\n",
       "      <td>GT3</td>\n",
       "      <td>T</td>\n",
       "      <td>4</td>\n",
       "      <td>2</td>\n",
       "      <td>health</td>\n",
       "      <td>services</td>\n",
       "      <td>...</td>\n",
       "      <td>3</td>\n",
       "      <td>2</td>\n",
       "      <td>2</td>\n",
       "      <td>1</td>\n",
       "      <td>1</td>\n",
       "      <td>5</td>\n",
       "      <td>0</td>\n",
       "      <td>14</td>\n",
       "      <td>14</td>\n",
       "      <td>14</td>\n",
       "    </tr>\n",
       "    <tr>\n",
       "      <th>4</th>\n",
       "      <td>GP</td>\n",
       "      <td>F</td>\n",
       "      <td>16</td>\n",
       "      <td>U</td>\n",
       "      <td>GT3</td>\n",
       "      <td>T</td>\n",
       "      <td>3</td>\n",
       "      <td>3</td>\n",
       "      <td>other</td>\n",
       "      <td>other</td>\n",
       "      <td>...</td>\n",
       "      <td>4</td>\n",
       "      <td>3</td>\n",
       "      <td>2</td>\n",
       "      <td>1</td>\n",
       "      <td>2</td>\n",
       "      <td>5</td>\n",
       "      <td>0</td>\n",
       "      <td>11</td>\n",
       "      <td>13</td>\n",
       "      <td>13</td>\n",
       "    </tr>\n",
       "  </tbody>\n",
       "</table>\n",
       "<p>5 rows × 33 columns</p>\n",
       "</div>"
      ],
      "text/plain": [
       "  School Sex  Age Address Family size Parent's cohabitation status  \\\n",
       "0     GP   F   18       U         GT3                            A   \n",
       "1     GP   F   17       U         GT3                            T   \n",
       "2     GP   F   15       U         LE3                            T   \n",
       "3     GP   F   15       U         GT3                            T   \n",
       "4     GP   F   16       U         GT3                            T   \n",
       "\n",
       "   Mother's education  Father's education Mother's job Father's job  ...  \\\n",
       "0                   4                   4      at_home      teacher  ...   \n",
       "1                   1                   1      at_home        other  ...   \n",
       "2                   1                   1      at_home        other  ...   \n",
       "3                   4                   2       health     services  ...   \n",
       "4                   3                   3        other        other  ...   \n",
       "\n",
       "  Family relationships Free time at school  Going out with friends  \\\n",
       "0                    4                   3                       4   \n",
       "1                    5                   3                       3   \n",
       "2                    4                   3                       2   \n",
       "3                    3                   2                       2   \n",
       "4                    4                   3                       2   \n",
       "\n",
       "   Workday alcohol consumption  Weekend alcohol consumption  \\\n",
       "0                            1                            1   \n",
       "1                            1                            1   \n",
       "2                            2                            3   \n",
       "3                            1                            1   \n",
       "4                            1                            2   \n",
       "\n",
       "  Current health status School absences First period grade  \\\n",
       "0                     3               4                  0   \n",
       "1                     3               2                  9   \n",
       "2                     3               6                 12   \n",
       "3                     5               0                 14   \n",
       "4                     5               0                 11   \n",
       "\n",
       "  Second period grade Final grade  \n",
       "0                  11          11  \n",
       "1                  11          11  \n",
       "2                  13          12  \n",
       "3                  14          14  \n",
       "4                  13          13  \n",
       "\n",
       "[5 rows x 33 columns]"
      ]
     },
     "execution_count": 46,
     "metadata": {},
     "output_type": "execute_result"
    }
   ],
   "source": [
    "student_df = pd.read_csv('../data/student_processed.csv')\\\n",
    "    \n",
    "student_df.head(5)"
   ]
  },
  {
   "cell_type": "markdown",
   "metadata": {},
   "source": [
    "<div style=\"color: #b1d1ff; font-size: 32px;\">\n",
    "Which age group uses alcohol the most and least often?\n",
    "</div>"
   ]
  },
  {
   "cell_type": "markdown",
   "metadata": {},
   "source": [
    "### Meaning\n",
    "    Which age group uses alcohol the most often\n",
    "\n",
    "    Which age group uses alcohol the least often"
   ]
  },
  {
   "cell_type": "markdown",
   "metadata": {},
   "source": [
    "- In order to answer this question, I will create a matrix to show the correlation between **Age** and **Workday Alcohol Consumption** and the correlation between **Age** and **Weekend Alcohol Consumption**\n",
    "\n"
   ]
  },
  {
   "cell_type": "markdown",
   "metadata": {},
   "source": [
    "- First, I will get unique values from **Age**"
   ]
  },
  {
   "cell_type": "code",
   "execution_count": 47,
   "metadata": {},
   "outputs": [
    {
     "data": {
      "text/plain": [
       "[15, 16, 17, 18, 19, 20, 21, 22]"
      ]
     },
     "execution_count": 47,
     "metadata": {},
     "output_type": "execute_result"
    }
   ],
   "source": [
    "# Get unique values of Age column\n",
    "unique_age_values = student_df['Age'].unique()\n",
    "\n",
    "unique_age_values = sorted(unique_age_values)\n",
    "\n",
    "unique_age_values"
   ]
  },
  {
   "cell_type": "markdown",
   "metadata": {},
   "source": [
    "- Then, I will get unique values from **Workday Alcohol Consumption**"
   ]
  },
  {
   "cell_type": "code",
   "execution_count": 48,
   "metadata": {},
   "outputs": [
    {
     "data": {
      "text/plain": [
       "[1, 2, 3, 4, 5]"
      ]
     },
     "execution_count": 48,
     "metadata": {},
     "output_type": "execute_result"
    }
   ],
   "source": [
    "# Get unique values of Workday Alcohol Consumption column\n",
    "workday_alcohol_values = student_df['Workday alcohol consumption'].unique()\n",
    "\n",
    "workday_alcohol_values = sorted(workday_alcohol_values)\n",
    "\n",
    "workday_alcohol_values"
   ]
  },
  {
   "cell_type": "markdown",
   "metadata": {},
   "source": [
    "- Create correlation matrix between **Age** and **Workday Alcohol Consumption**"
   ]
  },
  {
   "cell_type": "code",
   "execution_count": 49,
   "metadata": {},
   "outputs": [
    {
     "data": {
      "text/html": [
       "<div>\n",
       "<style scoped>\n",
       "    .dataframe tbody tr th:only-of-type {\n",
       "        vertical-align: middle;\n",
       "    }\n",
       "\n",
       "    .dataframe tbody tr th {\n",
       "        vertical-align: top;\n",
       "    }\n",
       "\n",
       "    .dataframe thead th {\n",
       "        text-align: right;\n",
       "    }\n",
       "</style>\n",
       "<table border=\"1\" class=\"dataframe\">\n",
       "  <thead>\n",
       "    <tr style=\"text-align: right;\">\n",
       "      <th></th>\n",
       "      <th>1</th>\n",
       "      <th>2</th>\n",
       "      <th>3</th>\n",
       "      <th>4</th>\n",
       "      <th>5</th>\n",
       "    </tr>\n",
       "  </thead>\n",
       "  <tbody>\n",
       "    <tr>\n",
       "      <th>15</th>\n",
       "      <td>81</td>\n",
       "      <td>22</td>\n",
       "      <td>7</td>\n",
       "      <td>1</td>\n",
       "      <td>1</td>\n",
       "    </tr>\n",
       "    <tr>\n",
       "      <th>16</th>\n",
       "      <td>130</td>\n",
       "      <td>33</td>\n",
       "      <td>8</td>\n",
       "      <td>3</td>\n",
       "      <td>3</td>\n",
       "    </tr>\n",
       "    <tr>\n",
       "      <th>17</th>\n",
       "      <td>119</td>\n",
       "      <td>36</td>\n",
       "      <td>15</td>\n",
       "      <td>3</td>\n",
       "      <td>6</td>\n",
       "    </tr>\n",
       "    <tr>\n",
       "      <th>18</th>\n",
       "      <td>96</td>\n",
       "      <td>25</td>\n",
       "      <td>8</td>\n",
       "      <td>6</td>\n",
       "      <td>5</td>\n",
       "    </tr>\n",
       "    <tr>\n",
       "      <th>19</th>\n",
       "      <td>20</td>\n",
       "      <td>3</td>\n",
       "      <td>5</td>\n",
       "      <td>4</td>\n",
       "      <td>0</td>\n",
       "    </tr>\n",
       "    <tr>\n",
       "      <th>20</th>\n",
       "      <td>4</td>\n",
       "      <td>2</td>\n",
       "      <td>0</td>\n",
       "      <td>0</td>\n",
       "      <td>0</td>\n",
       "    </tr>\n",
       "    <tr>\n",
       "      <th>21</th>\n",
       "      <td>1</td>\n",
       "      <td>0</td>\n",
       "      <td>0</td>\n",
       "      <td>0</td>\n",
       "      <td>1</td>\n",
       "    </tr>\n",
       "    <tr>\n",
       "      <th>22</th>\n",
       "      <td>0</td>\n",
       "      <td>0</td>\n",
       "      <td>0</td>\n",
       "      <td>0</td>\n",
       "      <td>1</td>\n",
       "    </tr>\n",
       "  </tbody>\n",
       "</table>\n",
       "</div>"
      ],
      "text/plain": [
       "      1   2   3  4  5\n",
       "15   81  22   7  1  1\n",
       "16  130  33   8  3  3\n",
       "17  119  36  15  3  6\n",
       "18   96  25   8  6  5\n",
       "19   20   3   5  4  0\n",
       "20    4   2   0  0  0\n",
       "21    1   0   0  0  1\n",
       "22    0   0   0  0  1"
      ]
     },
     "execution_count": 49,
     "metadata": {},
     "output_type": "execute_result"
    }
   ],
   "source": [
    "matrix = []\n",
    "\n",
    "for i in range(len(unique_age_values)):\n",
    "    matrix.append([0] * len(workday_alcohol_values))\n",
    "    \n",
    "for index, rows in student_df.iterrows():\n",
    "    age_value = rows['Age']\n",
    "    alcohol_value = rows['Workday alcohol consumption']\n",
    "    \n",
    "    matrix[age_value - 15][alcohol_value - 1] += 1\n",
    "\n",
    "df_workday_correlation = pd.DataFrame(matrix, index=unique_age_values, columns=workday_alcohol_values)\n",
    "df_workday_correlation"
   ]
  },
  {
   "cell_type": "markdown",
   "metadata": {},
   "source": [
    "- Visualization"
   ]
  },
  {
   "cell_type": "code",
   "execution_count": 50,
   "metadata": {},
   "outputs": [
    {
     "data": {
      "text/plain": [
       "Text(0.5, 1.0, 'Statistics on frequency of alcohol use in workday')"
      ]
     },
     "execution_count": 50,
     "metadata": {},
     "output_type": "execute_result"
    },
    {
     "data": {
      "image/png": "[encoded data removed]",
      "text/plain": [
       "<Figure size 1200x600 with 2 Axes>"
      ]
     },
     "metadata": {},
     "output_type": "display_data"
    }
   ],
   "source": [
    "plt.figure(figsize=(12,6))\n",
    "ax = sns.heatmap(df_workday_correlation, linewidths=.5, yticklabels = unique_age_values)\n",
    "ax.set_xlabel('Workday Alcohol Consumption')\n",
    "ax.set_title('Statistics on frequency of alcohol use in workday')"
   ]
  },
  {
   "cell_type": "markdown",
   "metadata": {},
   "source": [
    "- Get unique values from **Weekend Alcohol Consumption**"
   ]
  },
  {
   "cell_type": "code",
   "execution_count": 51,
   "metadata": {},
   "outputs": [
    {
     "data": {
      "text/plain": [
       "[1, 2, 3, 4, 5]"
      ]
     },
     "execution_count": 51,
     "metadata": {},
     "output_type": "execute_result"
    }
   ],
   "source": [
    "# Get unique values of Workday Alcohol Consumption column\n",
    "weekend_alcohol_values = student_df['Weekend alcohol consumption'].unique()\n",
    "\n",
    "weekend_alcohol_values = sorted(weekend_alcohol_values)\n",
    "\n",
    "weekend_alcohol_values"
   ]
  },
  {
   "cell_type": "markdown",
   "metadata": {},
   "source": [
    "- Create correlation matrix between **Age** and **Weekend Alcohol Consumption**"
   ]
  },
  {
   "cell_type": "code",
   "execution_count": 52,
   "metadata": {},
   "outputs": [
    {
     "data": {
      "text/html": [
       "<div>\n",
       "<style scoped>\n",
       "    .dataframe tbody tr th:only-of-type {\n",
       "        vertical-align: middle;\n",
       "    }\n",
       "\n",
       "    .dataframe tbody tr th {\n",
       "        vertical-align: top;\n",
       "    }\n",
       "\n",
       "    .dataframe thead th {\n",
       "        text-align: right;\n",
       "    }\n",
       "</style>\n",
       "<table border=\"1\" class=\"dataframe\">\n",
       "  <thead>\n",
       "    <tr style=\"text-align: right;\">\n",
       "      <th></th>\n",
       "      <th>1</th>\n",
       "      <th>2</th>\n",
       "      <th>3</th>\n",
       "      <th>4</th>\n",
       "      <th>5</th>\n",
       "    </tr>\n",
       "  </thead>\n",
       "  <tbody>\n",
       "    <tr>\n",
       "      <th>15</th>\n",
       "      <td>56</td>\n",
       "      <td>20</td>\n",
       "      <td>20</td>\n",
       "      <td>11</td>\n",
       "      <td>5</td>\n",
       "    </tr>\n",
       "    <tr>\n",
       "      <th>16</th>\n",
       "      <td>71</td>\n",
       "      <td>43</td>\n",
       "      <td>26</td>\n",
       "      <td>25</td>\n",
       "      <td>12</td>\n",
       "    </tr>\n",
       "    <tr>\n",
       "      <th>17</th>\n",
       "      <td>54</td>\n",
       "      <td>48</td>\n",
       "      <td>40</td>\n",
       "      <td>21</td>\n",
       "      <td>16</td>\n",
       "    </tr>\n",
       "    <tr>\n",
       "      <th>18</th>\n",
       "      <td>49</td>\n",
       "      <td>33</td>\n",
       "      <td>24</td>\n",
       "      <td>23</td>\n",
       "      <td>11</td>\n",
       "    </tr>\n",
       "    <tr>\n",
       "      <th>19</th>\n",
       "      <td>14</td>\n",
       "      <td>4</td>\n",
       "      <td>9</td>\n",
       "      <td>5</td>\n",
       "      <td>0</td>\n",
       "    </tr>\n",
       "    <tr>\n",
       "      <th>20</th>\n",
       "      <td>2</td>\n",
       "      <td>1</td>\n",
       "      <td>1</td>\n",
       "      <td>2</td>\n",
       "      <td>0</td>\n",
       "    </tr>\n",
       "    <tr>\n",
       "      <th>21</th>\n",
       "      <td>1</td>\n",
       "      <td>1</td>\n",
       "      <td>0</td>\n",
       "      <td>0</td>\n",
       "      <td>0</td>\n",
       "    </tr>\n",
       "    <tr>\n",
       "      <th>22</th>\n",
       "      <td>0</td>\n",
       "      <td>0</td>\n",
       "      <td>0</td>\n",
       "      <td>0</td>\n",
       "      <td>1</td>\n",
       "    </tr>\n",
       "  </tbody>\n",
       "</table>\n",
       "</div>"
      ],
      "text/plain": [
       "     1   2   3   4   5\n",
       "15  56  20  20  11   5\n",
       "16  71  43  26  25  12\n",
       "17  54  48  40  21  16\n",
       "18  49  33  24  23  11\n",
       "19  14   4   9   5   0\n",
       "20   2   1   1   2   0\n",
       "21   1   1   0   0   0\n",
       "22   0   0   0   0   1"
      ]
     },
     "execution_count": 52,
     "metadata": {},
     "output_type": "execute_result"
    }
   ],
   "source": [
    "matrix = []\n",
    "\n",
    "for i in range(len(unique_age_values)):\n",
    "    matrix.append([0] * len(weekend_alcohol_values))\n",
    "    \n",
    "for index, rows in student_df.iterrows():\n",
    "    age_value = rows['Age']\n",
    "    alcohol_value = rows['Weekend alcohol consumption']\n",
    "    \n",
    "    matrix[age_value - 15][alcohol_value - 1] += 1\n",
    "\n",
    "df_weekend_correlation = pd.DataFrame(matrix, index=unique_age_values, columns=weekend_alcohol_values)\n",
    "df_weekend_correlation"
   ]
  },
  {
   "cell_type": "markdown",
   "metadata": {},
   "source": [
    "- Visualization"
   ]
  },
  {
   "cell_type": "code",
   "execution_count": 53,
   "metadata": {},
   "outputs": [
    {
     "data": {
      "text/plain": [
       "Text(0.5, 1.0, 'Statistics on frequency of alcohol use in weekend')"
      ]
     },
     "execution_count": 53,
     "metadata": {},
     "output_type": "execute_result"
    },
    {
     "data": {
      "image/png": "[encoded data removed]",
      "text/plain": [
       "<Figure size 1200x600 with 2 Axes>"
      ]
     },
     "metadata": {},
     "output_type": "display_data"
    }
   ],
   "source": [
    "plt.figure(figsize=(12,6))\n",
    "ax = sns.heatmap(df_weekend_correlation, linewidths=.5, yticklabels = unique_age_values)\n",
    "ax.set_xlabel('Weekend Alcohol Consumption')\n",
    "ax.set_title('Statistics on frequency of alcohol use in weekend')"
   ]
  },
  {
   "cell_type": "markdown",
   "metadata": {},
   "source": [
    "- After two heatmap we can see that:\n",
    "\n",
    "    + Students use alcohol in weekend more than in workday\n",
    "\n",
    "    + In workday level 4 (high) and level 5 (very high), only few students use but in weekend, more than 25 students use in some age\n",
    "\n",
    "    + In weekend, Age 17 has biggest number of students has alcohol consumption in level 3 (medium) with nearly 45 students\n"
   ]
  },
  {
   "cell_type": "markdown",
   "metadata": {},
   "source": [
    "<div style=\"color: #b1d1ff; font-size: 32px;\">\n",
    "How does age impact the drinking habits of students use by gender?\n",
    "</div>"
   ]
  },
  {
   "cell_type": "markdown",
   "metadata": {},
   "source": [
    "### Meaning\n",
    "    Age Impact on Drinking Habits\n",
    "\n",
    "    Gender Differences in Drinking Habits\n",
    "\n",
    "    Interaction Effects"
   ]
  },
  {
   "cell_type": "markdown",
   "metadata": {},
   "source": [
    "- In order to answer this question, I will compare each age between male and female students. Group bar chart might be a good option to do so.\n",
    "\n",
    "- First, I need to find the columns which are the unique values of `Age` column"
   ]
  },
  {
   "cell_type": "code",
   "execution_count": 54,
   "metadata": {},
   "outputs": [
    {
     "data": {
      "text/plain": [
       "[15, 16, 17, 18, 19, 20, 21, 22]"
      ]
     },
     "execution_count": 54,
     "metadata": {},
     "output_type": "execute_result"
    }
   ],
   "source": [
    "# Get unique values of Age column\n",
    "unique_age_values = student_df['Age'].unique()\n",
    "\n",
    "unique_age_values = sorted(unique_age_values)\n",
    "\n",
    "unique_age_values"
   ]
  },
  {
   "cell_type": "markdown",
   "metadata": {},
   "source": [
    "- Then, group by `Sex` to find out the distribution of scent for each gender."
   ]
  },
  {
   "cell_type": "code",
   "execution_count": 55,
   "metadata": {},
   "outputs": [
    {
     "data": {
      "text/html": [
       "<div>\n",
       "<style scoped>\n",
       "    .dataframe tbody tr th:only-of-type {\n",
       "        vertical-align: middle;\n",
       "    }\n",
       "\n",
       "    .dataframe tbody tr th {\n",
       "        vertical-align: top;\n",
       "    }\n",
       "\n",
       "    .dataframe thead th {\n",
       "        text-align: right;\n",
       "    }\n",
       "</style>\n",
       "<table border=\"1\" class=\"dataframe\">\n",
       "  <thead>\n",
       "    <tr style=\"text-align: right;\">\n",
       "      <th></th>\n",
       "      <th>15</th>\n",
       "      <th>16</th>\n",
       "      <th>17</th>\n",
       "      <th>18</th>\n",
       "      <th>19</th>\n",
       "      <th>20</th>\n",
       "      <th>21</th>\n",
       "      <th>22</th>\n",
       "    </tr>\n",
       "  </thead>\n",
       "  <tbody>\n",
       "    <tr>\n",
       "      <th>Male</th>\n",
       "      <td>55</td>\n",
       "      <td>72</td>\n",
       "      <td>66</td>\n",
       "      <td>56</td>\n",
       "      <td>13</td>\n",
       "      <td>2</td>\n",
       "      <td>1</td>\n",
       "      <td>1</td>\n",
       "    </tr>\n",
       "    <tr>\n",
       "      <th>Female</th>\n",
       "      <td>57</td>\n",
       "      <td>105</td>\n",
       "      <td>113</td>\n",
       "      <td>84</td>\n",
       "      <td>19</td>\n",
       "      <td>4</td>\n",
       "      <td>1</td>\n",
       "      <td>0</td>\n",
       "    </tr>\n",
       "  </tbody>\n",
       "</table>\n",
       "</div>"
      ],
      "text/plain": [
       "        15   16   17  18  19  20  21  22\n",
       "Male    55   72   66  56  13   2   1   1\n",
       "Female  57  105  113  84  19   4   1   0"
      ]
     },
     "execution_count": 55,
     "metadata": {},
     "output_type": "execute_result"
    }
   ],
   "source": [
    "male = np.empty((0))\n",
    "female = np.empty((0))\n",
    "\n",
    "for age in unique_age_values:\n",
    "    # Filter dataframe with each age\n",
    "    age_df = student_df[student_df['Age'] == age]\n",
    "    \n",
    "    # Count number of each unique sex values\n",
    "    value_counts = age_df['Sex'].value_counts().reset_index()\n",
    "    \n",
    "    sex = value_counts['Sex'].tolist()\n",
    "    count_values = value_counts['count'].tolist()\n",
    "\n",
    "    # IF there is no female or male student\n",
    "    if (len(sex) != 2):\n",
    "        if (sex[0] == 'M'):\n",
    "            female = np.append(female, 0).astype(int)\n",
    "            male = np.append(male, count_values[0]).astype(int)\n",
    "            break\n",
    "        else:\n",
    "            male = np.append(male, 0).astype(int)\n",
    "            female = np.append(female, count_values[0]).astype(int)\n",
    "            break\n",
    "    \n",
    "    # Index 0 is F and index 1 is M because of alphabet order\n",
    "    female = np.append(female, count_values[0]).astype(int)\n",
    "    male = np.append(male, count_values[1]).astype(int)\n",
    "\n",
    "row_values = [male, female]\n",
    "index_values = ['Male', 'Female']\n",
    "\n",
    "sex_age_df = pd.DataFrame(row_values, columns=unique_age_values, index=index_values)\n",
    "\n",
    "sex_age_df"
   ]
  },
  {
   "cell_type": "markdown",
   "metadata": {},
   "source": [
    "- Visualize the result in a group bar chart. Groups are scents. In each group, there will be 2 columns (`F` and `M`)"
   ]
  },
  {
   "cell_type": "code",
   "execution_count": 56,
   "metadata": {},
   "outputs": [
    {
     "data": {
      "image/png": "[encoded data removed]",
      "text/plain": [
       "<Figure size 1200x600 with 1 Axes>"
      ]
     },
     "metadata": {},
     "output_type": "display_data"
    }
   ],
   "source": [
    "draw_df = sex_age_df.T\n",
    "\n",
    "# Plotting\n",
    "fig, ax = plt.subplots(figsize=(12, 6))\n",
    "\n",
    "# Bar plot for males\n",
    "draw_df['Male'].plot(kind='bar', position=0, color='skyblue', width=0.4, ax=ax, label='Male')\n",
    "\n",
    "# Bar plot for females\n",
    "draw_df['Female'].plot(kind='bar', position=1, color='salmon', width=0.4, ax=ax, label='Female')\n",
    "\n",
    "# Display values on top of the bars\n",
    "for i, value in enumerate(draw_df['Male']):\n",
    "    # plt.text(horizontal, vertical, value, color)\n",
    "    plt.text(i + 0.14, value + 2, str(value), color='skyblue')\n",
    "\n",
    "for i, value in enumerate(draw_df['Female']):\n",
    "    plt.text(i - 0.285, value + 2, str(value), color='salmon')\n",
    "\n",
    "ax.set_xlabel('Age')\n",
    "ax.set_title('Distribution of Gender for each Age')\n",
    "plt.legend(title='Gender')\n",
    "\n",
    "# Rotate x-axis labels to 90 degrees\n",
    "plt.xticks(rotation=0)\n",
    "\n",
    "plt.show()"
   ]
  },
  {
   "cell_type": "markdown",
   "metadata": {},
   "source": [
    "- From the bar chart we can see that mostly in each age group, the number of female students is higher than male students in drinking alcohol habits.\n"
   ]
  }
 ],
 "metadata": {
  "kernelspec": {
   "display_name": "pytorch_env",
   "language": "python",
   "name": "python3"
  },
  "language_info": {
   "codemirror_mode": {
    "name": "ipython",
    "version": 3
   },
   "file_extension": ".py",
   "mimetype": "text/x-python",
   "name": "python",
   "nbconvert_exporter": "python",
   "pygments_lexer": "ipython3",
   "version": "3.11.5"
  }
 },
 "nbformat": 4,
 "nbformat_minor": 2
}
